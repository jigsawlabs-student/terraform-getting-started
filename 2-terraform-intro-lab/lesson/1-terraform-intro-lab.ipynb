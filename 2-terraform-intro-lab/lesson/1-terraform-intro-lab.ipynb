{
 "cells": [
  {
   "cell_type": "markdown",
   "metadata": {},
   "source": [
    "# Terraform Intro Lab"
   ]
  },
  {
   "cell_type": "markdown",
   "metadata": {},
   "source": [
    "### Introduction"
   ]
  },
  {
   "cell_type": "markdown",
   "metadata": {},
   "source": [
    "In this lab, we'll practice setting up an EC2 resource in terraform.  Let's get started."
   ]
  },
  {
   "cell_type": "markdown",
   "metadata": {},
   "source": [
    "### Setting up the Provider"
   ]
  },
  {
   "cell_type": "markdown",
   "metadata": {},
   "source": [
    "Begin by creating a `tf` folder that contains a `main.tf` file.  From there, begin by adding the provider block, that specifies the aws provider and a region of `us-east-1`."
   ]
  },
  {
   "cell_type": "markdown",
   "metadata": {},
   "source": [
    "Then run the `terraform init` command.  This should trigger a download of the related aws modules."
   ]
  },
  {
   "cell_type": "markdown",
   "metadata": {},
   "source": [
    "> <img src=\"./downloading_modules.png\" width=\"60%\">"
   ]
  },
  {
   "cell_type": "markdown",
   "metadata": {},
   "source": [
    "### Adding the Resource"
   ]
  },
  {
   "cell_type": "markdown",
   "metadata": {},
   "source": [
    "From here, let's add our resource block.  Here, our resource is an `aws_instance` which we can name in terraform as `backend_api`.  \n",
    "\n",
    "We should add the properties of an `instance_type` and `ami` to the resource.  The `ami` value can be set as `\"ami-07d9b9ddc6cd8dd30\"`.  Remember that the ami describes the software that will be set up on our instance, and the `instance_type` specifies the hardware that will be supplied."
   ]
  },
  {
   "cell_type": "markdown",
   "metadata": {},
   "source": [
    "Now that our resource block is set up, it's time to view, and then apply the changes."
   ]
  },
  {
   "cell_type": "markdown",
   "metadata": {},
   "source": [
    "* `terraform manage`\n",
    "\n",
    "* `terraform apply`"
   ]
  },
  {
   "cell_type": "markdown",
   "metadata": {},
   "source": [
    "If done correctly, after calling apply, we should get an output that specifies the ec2 id.  \n",
    "\n",
    "> Look for an output that begins `id-`."
   ]
  },
  {
   "cell_type": "markdown",
   "metadata": {},
   "source": [
    "<img src=\"./ec2-id.png\">"
   ]
  },
  {
   "cell_type": "markdown",
   "metadata": {},
   "source": [
    "Then, find the corresponding EC2 instance in the dashboard, with the matching id, and then click on the instance with that id.  \n",
    "\n",
    "> **Gotcha**: Make sure that you are checking for resources in the correct region."
   ]
  },
  {
   "cell_type": "markdown",
   "metadata": {},
   "source": [
    "> <img src=\"./confirm-instance.png\">"
   ]
  },
  {
   "cell_type": "markdown",
   "metadata": {},
   "source": [
    "So notice above, that the id we see in the dashboard matches the id that was outputted in our termainal after running `terraform apply`. "
   ]
  },
  {
   "cell_type": "markdown",
   "metadata": {},
   "source": [
    "Finally, to make it a little easier to identify our aws instance, let's add a name to the instance.  First run `terraform destroy` to start of a clean state.\n",
    "\n",
    "Then let's add a tag and  do this through a name label.  So in the resource add the following:\n",
    "\n",
    "\n",
    "```bash\n",
    "tags = {\n",
    "    Name = \"Flask Api\"\n",
    "  }\n",
    "```\n",
    "\n",
    "Then apply the changes, and take another look at the EC2 instances, we should see one of the with a name of `Flask Api`."
   ]
  },
  {
   "cell_type": "markdown",
   "metadata": {},
   "source": [
    "<img src=\"./instance-name.png\">"
   ]
  },
  {
   "cell_type": "markdown",
   "metadata": {},
   "source": [
    "### Referencing our resource"
   ]
  },
  {
   "cell_type": "markdown",
   "metadata": {},
   "source": [
    "Next add an `output` value that displays the ami id of the resource that was created.  After running `terraform apply` again, we should see the following."
   ]
  },
  {
   "cell_type": "markdown",
   "metadata": {},
   "source": [
    "```bash\n",
    "Outputs:\n",
    "\n",
    "display_ami_id = \"ami-07d9b9ddc6cd8dd30\"\n",
    "```"
   ]
  },
  {
   "cell_type": "markdown",
   "metadata": {},
   "source": [
    "> **Note**: Your ami id may differ."
   ]
  },
  {
   "cell_type": "markdown",
   "metadata": {},
   "source": [
    "* Using the console"
   ]
  },
  {
   "cell_type": "markdown",
   "metadata": {},
   "source": [
    "Next up, let's explore our resource using the console.  From the `tf` folder, type the following: \n",
    "\n",
    "```\n",
    "terraform console\n",
    "```"
   ]
  },
  {
   "cell_type": "markdown",
   "metadata": {},
   "source": [
    "From there, use the console to display the `backend_api` resource's `public_ip` address.  You should see something like the following: \n",
    "\n",
    "`\"18.206.173.100\"`\n",
    "\n",
    "From there let's also use the console to view the instance id.  We should output something to the console like:\n",
    "\n",
    "`\"i-0e300017b0b0befec\"`"
   ]
  },
  {
   "cell_type": "markdown",
   "metadata": {},
   "source": [
    "Next, see if you can use the console to display the tag of \"Flask Api\".  This is located under the `Tags` attribute. If outputted properly, you should see the text `\"Flask Api\"`. "
   ]
  },
  {
   "cell_type": "markdown",
   "metadata": {},
   "source": [
    "### Cleaning Up"
   ]
  },
  {
   "cell_type": "markdown",
   "metadata": {},
   "source": [
    "Finally, to avoid incurring ongoing charges for our EC2 instance, destroy the related instance by running `terraform destroy`."
   ]
  },
  {
   "cell_type": "markdown",
   "metadata": {},
   "source": [
    "### Resources\n",
    "\n",
    "[Introducing Terraform](https://blog.gruntwork.io/an-introduction-to-terraform-f17df9c6d180)"
   ]
  }
 ],
 "metadata": {
  "kernelspec": {
   "display_name": "Python 3 (ipykernel)",
   "language": "python",
   "name": "python3"
  },
  "language_info": {
   "codemirror_mode": {
    "name": "ipython",
    "version": 3
   },
   "file_extension": ".py",
   "mimetype": "text/x-python",
   "name": "python",
   "nbconvert_exporter": "python",
   "pygments_lexer": "ipython3",
   "version": "3.10.13"
  }
 },
 "nbformat": 4,
 "nbformat_minor": 4
}
