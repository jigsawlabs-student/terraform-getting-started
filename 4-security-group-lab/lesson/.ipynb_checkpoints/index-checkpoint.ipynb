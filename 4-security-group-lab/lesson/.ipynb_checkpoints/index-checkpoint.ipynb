{
 "cells": [
  {
   "cell_type": "markdown",
   "metadata": {},
   "source": [
    "# Security Group Lab"
   ]
  },
  {
   "cell_type": "markdown",
   "metadata": {},
   "source": [
    "### Introduction"
   ]
  },
  {
   "cell_type": "markdown",
   "metadata": {},
   "source": [
    "In this lesson, we'll practice working with the security group -- that is, the firewall -- associated with an EC2 instance.  We'll do so by first creating our security group, and then attaching the security group to our ec2 instance."
   ]
  },
  {
   "cell_type": "markdown",
   "metadata": {},
   "source": [
    "### Another Warning"
   ]
  },
  {
   "cell_type": "markdown",
   "metadata": {},
   "source": [
    "> **Warning**: Once again, below code will **only** work on a machine that has *busybox* installed on it.  The ami available in your region may be different from what you see below, **but** if you choose an ami for an Ubuntu image, you should be good.  \n",
    "\n",
    "To choose an ami associated with an ubuntu image, you can get the ami by going to `EC2 > Launch Instance`.  And then select the Ubuntu logo from quickstart.  "
   ]
  },
  {
   "cell_type": "markdown",
   "metadata": {},
   "source": [
    "> <img src=\"./ubuntu-machine.png\" width=\"40%\">"
   ]
  },
  {
   "cell_type": "markdown",
   "metadata": {},
   "source": [
    "### Getting Started"
   ]
  },
  {
   "cell_type": "markdown",
   "metadata": {},
   "source": [
    "Before getting started, let's take a look at the work that we've accomplished so far.  "
   ]
  },
  {
   "cell_type": "markdown",
   "metadata": {},
   "source": [
    "```bash\n",
    "# tf/main.tf \n",
    "\n",
    "provider \"aws\" {\n",
    "  region = \"us-east-1\"\n",
    "}\n",
    "\n",
    "resource \"aws_instance\" \"backend_server\" {\n",
    "  ami           = \"ami-07d9b9ddc6cd8dd30\"\n",
    "  instance_type = \"t2.micro\"\n",
    "  \n",
    "  user_data = <<-EOF\n",
    "              #!/bin/bash\n",
    "              mkdir -p /var/www/html\n",
    "              echo \"Hello Everyone\" > /var/www/html/index.html\n",
    "              cd /var/www/html\n",
    "              nohup busybox httpd -f -p 80 &\n",
    "              EOF\n",
    "  \n",
    "  tags = {\n",
    "      Name = \"backend server\"\n",
    "  }\n",
    "}\n",
    "```"
   ]
  },
  {
   "cell_type": "markdown",
   "metadata": {},
   "source": [
    "In our `tf/main.tf` file, we specify our provider and region, and then create an `aws_instance` resource named `backend_server` in terraform.  We configure it to have `instance_type` of `t2.micro`, and set the AMI id."
   ]
  },
  {
   "cell_type": "markdown",
   "metadata": {},
   "source": [
    "We also setup some code so that will run a server that displays the text `\"Hello Everyone\"`.  Our task will be to expose this server so that any ip address can acess it on port `80`."
   ]
  },
  {
   "cell_type": "markdown",
   "metadata": {},
   "source": [
    "### Enabling SSH Access"
   ]
  },
  {
   "cell_type": "markdown",
   "metadata": {},
   "source": [
    "Now it's time to create the security group resource.  We'll provide you with the basic structure and it will be your task to fill in the related values:\n",
    "\n",
    "```bash\n",
    "ingress {\n",
    "    from_port   = \"\"\n",
    "    to_port     = \"\"\n",
    "    protocol    = \"tcp\"\n",
    "    cidr_blocks = []\n",
    "  }\n",
    "```\n",
    "\n",
    "> Note: The `from_port` and `to_port` values can be **integers**, we just specified an empty string to indicate placeholder.\n",
    "\n",
    "So we'll start by asking you to enable *SSH access*.  Now remember that when we ssh into a machine we need to use our pem file on our local computer to then access our EC2 instance.  So this means we need to perform an initial step of connecting a pem file, that is on our laptop, to our ec2 instance."
   ]
  },
  {
   "cell_type": "markdown",
   "metadata": {},
   "source": [
    "1. Connecting a key pair\n",
    "\n",
    "In terraform (and in aws) this pem file is referred to as our key-pair.  So to connect one of our pem files, let's navigate to the AWS console, and then type in key pairs.  We should see it show up under `Features` -- click there."
   ]
  },
  {
   "cell_type": "markdown",
   "metadata": {},
   "source": [
    "<img src=\"./key_pairs.png\" width=\"60%\">"
   ]
  },
  {
   "cell_type": "markdown",
   "metadata": {},
   "source": [
    "Then, we will be taken to a screen that displays our previously created key pairs."
   ]
  },
  {
   "cell_type": "markdown",
   "metadata": {},
   "source": [
    "<img src=\"key_pairs_before.png\" width=\"90%\">"
   ]
  },
  {
   "cell_type": "markdown",
   "metadata": {},
   "source": [
    "Each of the existing pairs should correspond to a separate .pem file on your computer. \n",
    "\n",
    "> If you cannot find any of the related pem files, just click on `Create key pair` to create, and then download another one."
   ]
  },
  {
   "cell_type": "markdown",
   "metadata": {},
   "source": [
    "Ok, now we'll use one of the key pairs listed above to connect to our EC2 instance.  We can do so by going to our existing `aws_instance` resource, and adding a `key_name` attribute after the `instance_type` attribute.  Set the value for `key_name` equal to the corresponding name that is displayed in the console -- in other words, there should be no .pem at the end."
   ]
  },
  {
   "cell_type": "markdown",
   "metadata": {},
   "source": [
    "2. Back to Security Group\n",
    "\n",
    "Now that we have specified the key name, we will still need to allow for SSH access on port 22.  We'll do ask you to fill in the `from_port` and `to_port` values."
   ]
  },
  {
   "cell_type": "markdown",
   "metadata": {},
   "source": [
    "```bash\n",
    "resource \"aws_security_group\" \"ssh_backend_security\" {\n",
    "    name = \"ssh backend security\"\n",
    "    \n",
    "    ingress {\n",
    "        cidr_blocks = [\n",
    "          \"0.0.0.0/0\"\n",
    "        ]\n",
    "    from_port = \"\"\n",
    "        to_port = \"\"\n",
    "        protocol = \"tcp\"\n",
    "      }\n",
    "    \n",
    "      egress {\n",
    "       from_port = 0\n",
    "       to_port = 0\n",
    "       protocol = \"-1\"\n",
    "       cidr_blocks = [\"0.0.0.0/0\"]\n",
    "     }\n",
    "}\n",
    "```"
   ]
  },
  {
   "cell_type": "markdown",
   "metadata": {},
   "source": [
    "So above, we create a new security group (in addition to our security group for web access), and this time we have an attribute for `ingress` and `egress`.  If ingress is making *requests* into our machine, the egress is how information leaves the machine.  Notice that we again allow outbound requests to be sent to any ip address.\n",
    "\n",
    "The last step is connecting our new security group to the `aws_instance` resource.  Make this change yourself so that we have two `security_group_ids` referenced in the list."
   ]
  },
  {
   "cell_type": "markdown",
   "metadata": {},
   "source": [
    "Then apply the changes.  "
   ]
  },
  {
   "cell_type": "markdown",
   "metadata": {},
   "source": [
    "If it works, we should be able to ssh into the machine use our pem file.  \n",
    "\n",
    "For instructions, remember that we can click on the related EC2 instance, and then click on the `Connect` button to the right, followed by the `SSH` tab."
   ]
  },
  {
   "cell_type": "markdown",
   "metadata": {},
   "source": [
    "<img src=\"./connect_ssh.png\" width=\"80%\">"
   ]
  },
  {
   "cell_type": "markdown",
   "metadata": {},
   "source": [
    "Then navigate to the folder where your pem file lives (perhaps in the `~/.ssh` folder).  "
   ]
  },
  {
   "cell_type": "markdown",
   "metadata": {},
   "source": [
    "```bash\n",
    "cd ~/.ssh\n",
    "```"
   ]
  },
  {
   "cell_type": "markdown",
   "metadata": {},
   "source": [
    "And from there we can connect to our machine.  You can connect with something like the following."
   ]
  },
  {
   "cell_type": "markdown",
   "metadata": {},
   "source": [
    "```bash\n",
    "ssh -i \"example.pem\" ubuntu@ec2-54-209-183-201.compute-1.amazonaws.com\n",
    "```"
   ]
  },
  {
   "cell_type": "markdown",
   "metadata": {},
   "source": [
    "### Providing an output"
   ]
  },
  {
   "cell_type": "markdown",
   "metadata": {},
   "source": [
    "Of course, the line above will vary based on your machine, but perhaps we can provide an output that says something like:\n",
    "    \n",
    "`\"ssh with the following: \"`, and then provides the information for our particular machine."
   ]
  },
  {
   "cell_type": "markdown",
   "metadata": {},
   "source": [
    "Here, we'll get you started with the following:"
   ]
  },
  {
   "cell_type": "markdown",
   "metadata": {},
   "source": [
    "```bash\n",
    "output \"connection_instructions\" {\n",
    "  value = \"ssh with the following: ssh -i ${aws_instance.backend_server.key_name}.pem ubuntu@\" \n",
    "}\n",
    "```"
   ]
  },
  {
   "cell_type": "markdown",
   "metadata": {},
   "source": [
    "> So the above uses string interpolation to refereence our `key_name` inside of a string."
   ]
  },
  {
   "cell_type": "markdown",
   "metadata": {},
   "source": [
    "Then `cd` into the correct folder and confirm that properly allows you to ssh into the machine."
   ]
  },
  {
   "cell_type": "markdown",
   "metadata": {},
   "source": [
    "### Adding the Security Group"
   ]
  },
  {
   "cell_type": "markdown",
   "metadata": {},
   "source": [
    "Now it's time to update the security group resource so that we have http access.  We'll provide you with the basic structure and it will be your task to fill in the related values:\n",
    "\n",
    "\n",
    "Add another set of ingress rules, this time enabling access to our http port."
   ]
  },
  {
   "cell_type": "markdown",
   "metadata": {},
   "source": [
    "> So within the same security group, add another ingress rule, and fill in the correct values."
   ]
  },
  {
   "cell_type": "markdown",
   "metadata": {},
   "source": [
    "```bash\n",
    "    ingress {\n",
    "        from_port   = \"\"\n",
    "        to_port     = \"\"\n",
    "        protocol    = \"tcp\"\n",
    "        cidr_blocks = []\n",
    "      }\n",
    "```\n",
    "\n",
    "> Note: The `from_port` and `to_port` values can be **integers**, we just specified an empty string to indicate placeholder."
   ]
  },
  {
   "cell_type": "markdown",
   "metadata": {},
   "source": [
    "When you're finished adding the ingress rule then **connect** *the security group to the EC2 resource defined above*.  \n",
    "\n",
    "Next, let's confirm that this worked.  So first, go to the aws web console to see the newly created ec2 instance.  It will have a name of `backend server`."
   ]
  },
  {
   "cell_type": "markdown",
   "metadata": {},
   "source": [
    "> <img src=\"./backend-server.png\" width=\"60%\">"
   ]
  },
  {
   "cell_type": "markdown",
   "metadata": {},
   "source": [
    "The instance Id should also match the instance id that was displayed in the terminal after running `terraform apply`."
   ]
  },
  {
   "cell_type": "markdown",
   "metadata": {},
   "source": [
    "From there, click on the instance, and then click on the `security` panel, and then click on the security group -- named `http backend security`. "
   ]
  },
  {
   "cell_type": "markdown",
   "metadata": {},
   "source": [
    "> <img src=\"./security-group.png\" width=\"60%\">"
   ]
  },
  {
   "cell_type": "markdown",
   "metadata": {},
   "source": [
    "Click on `Edit Inbound Rules`, which should show us the following."
   ]
  },
  {
   "cell_type": "markdown",
   "metadata": {},
   "source": [
    "> <img src=\"./port-3000.png\" width=\"60%\">"
   ]
  },
  {
   "cell_type": "markdown",
   "metadata": {},
   "source": [
    "Notice that the port is port 80.  This is because when we set up the web app, we said to run on the port 80.\n",
    "```python\n",
    "user_data = <<-EOF\n",
    "              #!/bin/bash\n",
    "              mkdir -p /var/www/html\n",
    "              echo \"Hello Everyone\" > /var/www/html/index.html\n",
    "              cd /var/www/html\n",
    "              nohup busybox httpd -f -p 80 &\n",
    "              EOF\n",
    "```"
   ]
  },
  {
   "cell_type": "markdown",
   "metadata": {
    "tags": []
   },
   "source": [
    "Ok, so if this is setup properly, we should be able to visit the domain name address, and see the text `Hello Everyone`."
   ]
  },
  {
   "cell_type": "markdown",
   "metadata": {},
   "source": [
    "> **Gotcha:** Be sure to make the add in the port when visiting the address, and be sure that you are visiting `http://ipaddress:80` as opposed `https`."
   ]
  },
  {
   "cell_type": "markdown",
   "metadata": {},
   "source": [
    "> <img src=\"./hello-all.png\" width=\"60%\">"
   ]
  },
  {
   "cell_type": "markdown",
   "metadata": {},
   "source": [
    "**Finally**, make sure to destroy all of the resources with `terraform destroy`."
   ]
  },
  {
   "cell_type": "markdown",
   "metadata": {},
   "source": [
    "### Summary"
   ]
  },
  {
   "cell_type": "markdown",
   "metadata": {},
   "source": [
    "Great work, we have now seen how to setup the security for enabling access to our EC2 machine via SSH and http in terraform."
   ]
  },
  {
   "cell_type": "markdown",
   "metadata": {},
   "source": [
    "[terraform keypair](https://medium.com/@hmalgewatta/setting-up-an-aws-ec2-instance-with-ssh-access-using-terraform-c336c812322f)"
   ]
  },
  {
   "cell_type": "markdown",
   "metadata": {},
   "source": [
    "[IP Addresses and Subnets Digital Ocean](https://www.digitalocean.com/community/tutorials/understanding-ip-addresses-subnets-and-cidr-notation-for-networking#netmasks-and-subnets)"
   ]
  },
  {
   "cell_type": "markdown",
   "metadata": {},
   "source": [
    "[Terraform and CIDR](http://blog.itsjustcode.net/blog/2017/11/18/terraform-cidrsubnet-deconstructed/)"
   ]
  }
 ],
 "metadata": {
  "kernelspec": {
   "display_name": "Python 3 (ipykernel)",
   "language": "python",
   "name": "python3"
  },
  "language_info": {
   "codemirror_mode": {
    "name": "ipython",
    "version": 3
   },
   "file_extension": ".py",
   "mimetype": "text/x-python",
   "name": "python",
   "nbconvert_exporter": "python",
   "pygments_lexer": "ipython3",
   "version": "3.10.13"
  }
 },
 "nbformat": 4,
 "nbformat_minor": 4
}
