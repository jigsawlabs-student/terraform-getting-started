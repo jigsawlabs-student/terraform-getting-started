{
 "cells": [
  {
   "cell_type": "markdown",
   "metadata": {},
   "source": [
    "# Intro to Terraform"
   ]
  },
  {
   "cell_type": "markdown",
   "metadata": {},
   "source": [
    "### Introduction\n",
    "\n",
    "So far, in using AWS, we have relied on the AWS console.  This is our web interface for using AWS, where we relied on a combination of dashboards and forms, to get our AWS resources properly configured as part of deploying our application.  In this lesson, we'll see how set up our AWS resources purely through code, by using a new tool called terraform. "
   ]
  },
  {
   "cell_type": "markdown",
   "metadata": {},
   "source": [
    "### Installing Terraform"
   ]
  },
  {
   "cell_type": "markdown",
   "metadata": {},
   "source": [
    "You can see the different ways of installing terraform [here](https://developer.hashicorp.com/terraform/tutorials/aws-get-started/install-cli).    \n",
    "\n",
    "If you have homebrew on mac, you can simply run `brew install terraform`.\n",
    "\n",
    "Finally, on VS code, there is a terraform extension, which will provide syntax highlighting and hints.  From VS code, click on extensions (in white below on the side-panel), and then search for terraform, and install the `Hashicorp Terraform` extension."
   ]
  },
  {
   "cell_type": "markdown",
   "metadata": {},
   "source": [
    "<img src=\"./tf-vscode.png\" width=\"30%\">"
   ]
  },
  {
   "cell_type": "markdown",
   "metadata": {},
   "source": [
    "### Starting with Terraform"
   ]
  },
  {
   "cell_type": "markdown",
   "metadata": {},
   "source": [
    "Now we can begin using terraform by creating a new folder -- which we can call `tf` and adding a new file called `main.tf` that looks like the following."
   ]
  },
  {
   "cell_type": "markdown",
   "metadata": {},
   "source": [
    "```bash \n",
    "# tf/main.tf\n",
    "\n",
    "provider \"aws\" {\n",
    "  region = \"us-east-2\"\n",
    "}\n",
    "\n",
    "resource \"aws_instance\" \"backend_server\" {\n",
    "  ami           = \"ami-07d9b9ddc6cd8dd30\"\n",
    "  instance_type = \"t2.micro\"\n",
    "}\n",
    "```"
   ]
  },
  {
   "cell_type": "markdown",
   "metadata": {},
   "source": [
    "Let's see if we can get a sense of what the above is doing.  The code above is written `HCL` -- HashiCorp Configuration Language -- HashiCorp is the company behind terraform.  HCL is designed to be a cleaner version of JSON.  And we can see that it wraps code in what looks like JSON dictionaries.  However one main difference is that the code uses a `key = value` pattern, instead of separating each key and value with a colon as in JSON.\n",
    "\n",
    "Now above, our code consists of two blocks -- the `provider` block and the resource `block`.  \n",
    "\n",
    "* Provider\n",
    "\n",
    "```bash\n",
    "provider \"aws\" {\n",
    "  region = \"us-east-2\"\n",
    "}\n",
    "```\n",
    "\n",
    "The provider block specifies where we are deploying our code.  For example, above we are deploying our code to AWS's cloud, in region `us-east-2`.  \n",
    "\n",
    "> We could also specify our account, so that AWS knows the VPC to deploy to, but terraform will look to our user logged in via the AWS CLI on our computer.  "
   ]
  },
  {
   "cell_type": "markdown",
   "metadata": {},
   "source": [
    "* resource"
   ]
  },
  {
   "cell_type": "markdown",
   "metadata": {},
   "source": [
    "```bash\n",
    "resource \"aws_instance\" \"backend_server\" {\n",
    "  ami           = \"ami-07d9b9ddc6cd8dd30\"\n",
    "  instance_type = \"t2.micro\"\n",
    "}\n",
    "```"
   ]
  },
  {
   "cell_type": "markdown",
   "metadata": {},
   "source": [
    "We begin the resource block with the following pattern: \n",
    "\n",
    "* `resource [resource_type] [resource_name]`\n",
    "\n",
    "So above we specify the type of the resource we are using -- `aws_instance` followed by the *name* of the instance terraform can reference this specific resource as, `backend_server`.  If we think about the contents of our AWS resource, we need to specify both our Amazon Machine Image -- the AMI, which specifies the software on our instance -- and the `instance_type` which indicates the hardware.  Above we are using the instance type of `t2.micro`, which comes with a limited amount of hardware, but is free."
   ]
  },
  {
   "cell_type": "markdown",
   "metadata": {},
   "source": [
    "> To find the ami id you want to use, you can navigate to navigate to the ec2 console, and begin creating a new ec2 instance.  There, you'll see the ami id of the amazon image machine you selected."
   ]
  },
  {
   "cell_type": "markdown",
   "metadata": {},
   "source": [
    "> <img src=\"./ami-id.png\" width=\"30%\">"
   ]
  },
  {
   "cell_type": "markdown",
   "metadata": {},
   "source": [
    "### Applying our Code"
   ]
  },
  {
   "cell_type": "markdown",
   "metadata": {},
   "source": [
    "Now our first step in creating a new terraform project is to run `terraform init` from the command line. "
   ]
  },
  {
   "cell_type": "markdown",
   "metadata": {},
   "source": [
    "<img src=\"./terraform_first_init.png\" width=\"70%\">"
   ]
  },
  {
   "cell_type": "markdown",
   "metadata": {},
   "source": [
    "This command looks at the the provider specified in the provider block and determines and sets up various configuration files so that it can interact with the specified provider -- here AWS. \n",
    "\n",
    "> Notice that we now have a couple of added files and folders in our `tf` directory like `.terraform` and `.terraform.lock.hcl`.\n",
    "\n",
    "```bash\n",
    "ls\n",
    "# .terraform          .terraform.lock.hcl main.tf\n",
    "```"
   ]
  },
  {
   "cell_type": "markdown",
   "metadata": {},
   "source": [
    "Now running `terraform init` only sets up our configuration for a working directory.  To deploy our setup to AWS, we'll need two additional commands, `terraform plan` and `terraform apply`."
   ]
  },
  {
   "cell_type": "markdown",
   "metadata": {},
   "source": [
    "### Terraform Plan"
   ]
  },
  {
   "cell_type": "markdown",
   "metadata": {},
   "source": [
    "Next up is the `terraform plan` command.  This does not actually deploy to AWS, but rather indicates to us what is about to be deployed, and to be changed.  Let's try it."
   ]
  },
  {
   "cell_type": "markdown",
   "metadata": {},
   "source": [
    "<img src=\"./terraform_plan.png\" width=\"60%\">"
   ]
  },
  {
   "cell_type": "markdown",
   "metadata": {},
   "source": [
    "As we can see above, terraform tells us what will be created.  We can see that many of the values -- like the public ip address -- won't be known until we actually deploy to AWS.  But other items that we specify, like the `ami` *is* known.\n",
    "\n",
    "Also take a look at the `+` next to each of theese values.  This tells us at each of the items will be created by the changes.  If we saw a - sign, it would indicate the the items would be removed (just like we see in git)."
   ]
  },
  {
   "cell_type": "markdown",
   "metadata": {},
   "source": [
    "### Terraform Apply"
   ]
  },
  {
   "cell_type": "markdown",
   "metadata": {},
   "source": [
    "Now it's time to deploy create our specified AWS instance.  We do so by running `terraform apply`."
   ]
  },
  {
   "cell_type": "markdown",
   "metadata": {},
   "source": [
    "> Terraform will ask for confirmation before applying the specified changes, type `yes`."
   ]
  },
  {
   "cell_type": "markdown",
   "metadata": {},
   "source": [
    "```bash\n",
    "Do you want to perform these actions?\n",
    "  Terraform will perform the actions described above.\n",
    "  Only 'yes' will be accepted to approve.\n",
    "```"
   ]
  },
  {
   "cell_type": "markdown",
   "metadata": {},
   "source": [
    "From here, we'll see in our terminal that our AWS resource has been created."
   ]
  },
  {
   "cell_type": "markdown",
   "metadata": {},
   "source": [
    "<img src=\"./making-change.png\" width=\"60%\">"
   ]
  },
  {
   "cell_type": "markdown",
   "metadata": {},
   "source": [
    "And when we go to the aws cocnsole, we'll see the following."
   ]
  },
  {
   "cell_type": "markdown",
   "metadata": {},
   "source": [
    "<img src=\"./display_in_console.png\" width=\"60%\">"
   ]
  },
  {
   "cell_type": "markdown",
   "metadata": {},
   "source": [
    "> Notice, that the instance id we see in the console matches the id that we see in the terminal `i-03...`."
   ]
  },
  {
   "cell_type": "markdown",
   "metadata": {},
   "source": [
    "> **Gotcha**: If you do not see the terraform instance running, be sure to check that in your AWS console, you are viewing the correct region -- above we specified `us-east-2`."
   ]
  },
  {
   "cell_type": "markdown",
   "metadata": {},
   "source": [
    "<img src=\"./us-east-2.png\" width=\"50%\">"
   ]
  },
  {
   "cell_type": "markdown",
   "metadata": {},
   "source": [
    "### Referencing our resource"
   ]
  },
  {
   "cell_type": "markdown",
   "metadata": {},
   "source": [
    "Now when we created our ec2 resource above, we now also have a way to reference that resource.  For example, we created our resource with the following:"
   ]
  },
  {
   "cell_type": "markdown",
   "metadata": {},
   "source": [
    "```bash\n",
    "resource \"aws_instance\" \"backend_server\" {\n",
    "    ...\n",
    "}\n",
    "```"
   ]
  },
  {
   "cell_type": "markdown",
   "metadata": {},
   "source": [
    "Where `aws_instance` is the kind of resource we are creating, and `backend_server` is the resource name in terraform.  Now let's see how we can reference that resource in terraform.\n",
    "\n",
    "\n",
    "Add the following to the bottom of the terraform file:\n",
    "\n",
    "```bash\n",
    "output \"ec2_global_dns\" {\n",
    "  value = aws_instance.backend_server.public_dns\n",
    "}\n",
    "```"
   ]
  },
  {
   "cell_type": "markdown",
   "metadata": {},
   "source": [
    "Here, we are specifying an `output` to display in our console the next time we run terraform apply.  And that output is the domain name of the ec2 machine we just created.  Notice that, to do that, we are referencing the `aws_instance` resource, which allows us to get to our `backend_server` -- a name that we supplied.  Then we display the `public_dns`.  Run terraform apply again, and you should see the output displayed."
   ]
  },
  {
   "cell_type": "markdown",
   "metadata": {},
   "source": [
    "<img src=\"./tf-output.png\" width=\"50%\">"
   ]
  },
  {
   "cell_type": "markdown",
   "metadata": {},
   "source": [
    "So we learned two things from the above.  One is about outputs, which allows us to log certain information.  The other, is how we can reference our terraform resources.  We can do so with the resource type followed by the resource name.\n",
    "\n",
    "```\n",
    "aws_instance.backend_server\n",
    "```\n",
    "\n",
    "> You can almost think of it the way we reference a module in python.  We do it `folder_name.module` and here we can imagine that `backend_server` is under the `aws_instance` folder."
   ]
  },
  {
   "cell_type": "markdown",
   "metadata": {},
   "source": [
    "* Cleaning up"
   ]
  },
  {
   "cell_type": "markdown",
   "metadata": {},
   "source": [
    "Finally, we can run `terraform destroy` to destroy all of the related infrastructure specified in our terraform files. "
   ]
  },
  {
   "cell_type": "markdown",
   "metadata": {},
   "source": [
    "### Summary"
   ]
  },
  {
   "cell_type": "markdown",
   "metadata": {},
   "source": [
    "In this lesson, we learned how to deploy an EC2 instance to AWS.  We first wrote the provider block, which specifies the cloud service we are using and the AWS region."
   ]
  },
  {
   "cell_type": "markdown",
   "metadata": {},
   "source": [
    "```bash\n",
    "provider \"aws\" {\n",
    "  region = \"us-east-2\"\n",
    "}\n",
    "```"
   ]
  },
  {
   "cell_type": "markdown",
   "metadata": {},
   "source": [
    "Then we needed to specify which resource to create in AWS."
   ]
  },
  {
   "cell_type": "markdown",
   "metadata": {},
   "source": [
    "```bash\n",
    "resource \"aws_instance\" \"backend_server\" {\n",
    "  ami           = \"ami-07d9b9ddc6cd8dd30\"\n",
    "  instance_type = \"t2.micro\"\n",
    "}\n",
    "```"
   ]
  },
  {
   "cell_type": "markdown",
   "metadata": {},
   "source": [
    "We did so by specifying the resource type -- `aws_instance` and a name of our choosing `backend_server`.  Then in the block we specified our `ami` and `instance_type`.\n",
    "\n",
    "Finally, we used the command line to first view the proposed deployment with `terraform plan`.  And then we applied our changes in AWS with `terraform apply`."
   ]
  }
 ],
 "metadata": {
  "kernelspec": {
   "display_name": "Python 3 (ipykernel)",
   "language": "python",
   "name": "python3"
  },
  "language_info": {
   "codemirror_mode": {
    "name": "ipython",
    "version": 3
   },
   "file_extension": ".py",
   "mimetype": "text/x-python",
   "name": "python",
   "nbconvert_exporter": "python",
   "pygments_lexer": "ipython3",
   "version": "3.10.13"
  }
 },
 "nbformat": 4,
 "nbformat_minor": 4
}
