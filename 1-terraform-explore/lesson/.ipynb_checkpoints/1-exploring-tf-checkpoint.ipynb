{
 "cells": [
  {
   "cell_type": "markdown",
   "id": "7f56ff0a-9977-4285-b182-adb0b207bde6",
   "metadata": {},
   "source": [
    "# Referencing Resources with Terraform"
   ]
  },
  {
   "cell_type": "markdown",
   "id": "4d5d09bb-797e-4094-80e8-dd905521aeb1",
   "metadata": {},
   "source": [
    "### Introduction"
   ]
  },
  {
   "cell_type": "markdown",
   "id": "96e3542e-0e0d-417a-bc91-e31b75b590c6",
   "metadata": {},
   "source": [
    "In the last lesson, we saw how we can create some initial resources with terraform.  And we did so by defining our resources like so:"
   ]
  },
  {
   "cell_type": "markdown",
   "id": "210ae428-2a15-49be-8917-adc9dc18b790",
   "metadata": {},
   "source": [
    "```bash\n",
    "provider \"aws\" {\n",
    "  region = \"us-east-1\"\n",
    "}\n",
    "\n",
    "resource \"aws_instance\" \"backend_server\" {\n",
    "  ami           = \"ami-07d9b9ddc6cd8dd30\"\n",
    "  instance_type = \"t2.micro\"\n",
    "  \n",
    "  tags = {\n",
    "      Name = \"some backend server\"\n",
    "  }\n",
    "}\n",
    "```"
   ]
  },
  {
   "cell_type": "markdown",
   "id": "149326b3-9a4a-471a-add4-067e727f54b3",
   "metadata": {},
   "source": [
    "And then calling `terraform init` and `terraform apply`.  Finally, we cleaned up our resources with terraform destroy.  "
   ]
  },
  {
   "cell_type": "markdown",
   "id": "4cb0ea91-a205-491b-b729-93fa64a327be",
   "metadata": {},
   "source": [
    "In this lesson, we'll see how we can use terraform to explore these resources."
   ]
  },
  {
   "cell_type": "markdown",
   "id": "be372293-2632-4c3b-a4d7-bd31c3cf3a38",
   "metadata": {},
   "source": [
    "### Referencing our resource"
   ]
  },
  {
   "cell_type": "markdown",
   "id": "de825ff5-1893-4c3e-9d55-063938963bce",
   "metadata": {},
   "source": [
    "Begin by navigating to the `tf` folder and call `terraform init` followed by `terraform apply`.\n",
    "\n",
    "Now when we created our ec2 resource above, we now also have a way to reference that resource.  Let's see how.  \n",
    "\n",
    "With the ec2 resource we just created, we specified the resource to create with the following:"
   ]
  },
  {
   "cell_type": "markdown",
   "id": "fd464c17-88d2-4908-8892-d1002d5f263d",
   "metadata": {},
   "source": [
    "```bash\n",
    "resource \"aws_instance\" \"backend_server\" {\n",
    "    ...\n",
    "}\n",
    "```"
   ]
  },
  {
   "cell_type": "markdown",
   "id": "0a5963f2-4525-48f1-bb24-09b7f34382db",
   "metadata": {},
   "source": [
    "Where `aws_instance` is the kind of resource we are creating, and `backend_server` is the resource name in terraform.  Now let's see how we can reference that resource in terraform.\n",
    "\n",
    "\n",
    "Add the following to the bottom of the terraform file:\n",
    "\n",
    "```bash\n",
    "output \"ec2_global_dns\" {\n",
    "  value = aws_instance.backend_server.public_dns\n",
    "}\n",
    "```"
   ]
  },
  {
   "cell_type": "markdown",
   "id": "67be9023-98ba-4dca-acb0-27335967db7d",
   "metadata": {},
   "source": [
    "Here, we are specifying an `output` to display in our console the next time we run terraform apply.  And that output is the domain name of the ec2 machine we just created.  Notice that, to do that, we are referencing the `aws_instance` resource, which allows us to get to our `backend_server` -- a name that we supplied.  Then we display the `public_dns`.  Run terraform apply again, and you should see the output displayed.\n",
    "\n",
    "```bash\n",
    "terraform apply\n",
    "```"
   ]
  },
  {
   "cell_type": "markdown",
   "id": "c33dd7a4-8a73-425b-bf65-6fffaf72f533",
   "metadata": {},
   "source": [
    "<img src=\"./tf-output.png\" width=\"50%\">"
   ]
  },
  {
   "cell_type": "markdown",
   "id": "96bd977b-26d3-4773-a00b-196dfc2b2f50",
   "metadata": {},
   "source": [
    "So we learned two things from the above.  One is about `outputs`, which allows us to display certain information in the console.  The other thing we learned is about referencing our terraform resources.  We did so with the resource type followed by the resource name.\n",
    "\n",
    "```\n",
    "aws_instance.backend_server\n",
    "```\n",
    "\n",
    "> You can almost think of it the way we reference a module in python.  We do it `folder_name.module` and here we can imagine that `backend_server` is under the `aws_instance` folder."
   ]
  },
  {
   "cell_type": "markdown",
   "id": "0b7bd7c4-68fd-498d-af3e-550ce8aecec8",
   "metadata": {},
   "source": [
    "### Using the console"
   ]
  },
  {
   "cell_type": "markdown",
   "id": "aa8788b5-63a5-4bbb-bb3f-a7d81a5c54af",
   "metadata": {},
   "source": [
    "Now how did we know that our `aws_instance.backend_server` resource had a property of `public_dns`?  Well we can of course read the documentation, or interrogate chatgpt, but another technique is to use the terraform console.\n",
    "\n",
    "From inside of the `tf` folder, run the following."
   ]
  },
  {
   "cell_type": "markdown",
   "id": "497bf2b7-7bfe-4682-ba06-9c15733b7904",
   "metadata": {},
   "source": [
    "```\n",
    "terraform console\n",
    "```"
   ]
  },
  {
   "cell_type": "markdown",
   "id": "e488527e-97c9-4aaa-84f1-c5228adb14c3",
   "metadata": {},
   "source": [
    "From here, we can reference any of the terraform resources that we created.  For example, below, we see the properties of the terraform console by typing: `aws_instance.backend_server`"
   ]
  },
  {
   "cell_type": "markdown",
   "id": "6ca7eb02-0390-4f09-a95a-15ad3852ae01",
   "metadata": {},
   "source": [
    "<img src=\"./tf-console.png\" width=\"60%\">"
   ]
  },
  {
   "cell_type": "markdown",
   "id": "64f3f122-b329-4b3c-aa1f-6ff5b4aa5397",
   "metadata": {},
   "source": [
    "And from there we can scroll through the various properties, and access them like so."
   ]
  },
  {
   "cell_type": "markdown",
   "id": "b9c7af94-700d-4304-9a2c-b9694eca5dea",
   "metadata": {},
   "source": [
    "```\n",
    "aws_instance.backend_server.ami\n",
    "```"
   ]
  },
  {
   "cell_type": "markdown",
   "id": "59d17cf9-f631-4d0d-b097-d49d8846c072",
   "metadata": {},
   "source": [
    "Just like working with a Python console, working with the terraform console, is a really good way to experiment with different code.  For example, towards the bottom of our `backend_server` output, we can see something like the following."
   ]
  },
  {
   "cell_type": "markdown",
   "id": "40268c82-80e7-4c1b-98ab-aec43a404c51",
   "metadata": {},
   "source": [
    "<img src=\"./vpc-sec-group-ids.png\" width=\"60%\">"
   ]
  },
  {
   "cell_type": "markdown",
   "id": "88f3bf0a-b06e-4f9b-9e39-fa2f2d0f70d9",
   "metadata": {},
   "source": [
    "Is it possible for us to access the first (and only) of those ids from this `toset` thing?"
   ]
  },
  {
   "cell_type": "markdown",
   "id": "e413d4b8-b05d-45e7-b915-748db818faff",
   "metadata": {},
   "source": [
    "Well we can begin by googling, or asking chatgpt."
   ]
  },
  {
   "cell_type": "markdown",
   "id": "1db7082e-91e9-4a67-afc4-25d958607589",
   "metadata": {},
   "source": [
    "`Question`: `How can I access an element in a toset in terraform?`\n",
    "\n",
    "And we get back something that references to first convert the set to a list with a `tolist` function.  So let's try that out in our console."
   ]
  },
  {
   "cell_type": "markdown",
   "id": "3e3db47d-bd7d-4074-b1f9-2a54f0b63ae1",
   "metadata": {},
   "source": [
    "```bash\n",
    "tolist(aws_instance.backend_server.vpc_security_group_ids)[0]\n",
    "```"
   ]
  },
  {
   "cell_type": "markdown",
   "id": "1bf0ae96-78f8-48cc-a420-0e82ead21ffd",
   "metadata": {},
   "source": [
    "Ok, the above line should work!"
   ]
  },
  {
   "cell_type": "markdown",
   "id": "55ec529f-3ffc-4ea2-8707-711f78e36d9b",
   "metadata": {},
   "source": [
    "> Terraform is written in the `hashicorp language` (hcl) so getting a sense of how it works is available through working with the console."
   ]
  },
  {
   "cell_type": "markdown",
   "id": "d326f6d5-44db-4aff-9f33-94d36c36f270",
   "metadata": {},
   "source": [
    "But the point from the above isn't about understanding `toset` or `tolist`, but rather that doing some research with google/chatgpt and then trying it in the console can be a way for us experiment with different code in our console before moving to writing it in a `.tf` file.  "
   ]
  },
  {
   "cell_type": "markdown",
   "id": "bbbc91ff-3826-4e65-a432-69e493c72ebf",
   "metadata": {},
   "source": [
    "### Summary"
   ]
  },
  {
   "cell_type": "markdown",
   "id": "61546205-6497-4f19-9b3a-c6ba2b3499f4",
   "metadata": {},
   "source": [
    "In this lesson, we saw different ways of exploring how to work with terraform.  One mechanism is to use `output` to display different output in the console.  \n",
    "\n",
    "```bash\n",
    "output \"ec2_global_dns\" {\n",
    "  value = aws_instance.backend_server.public_dns \n",
    "}\n",
    "```\n",
    "\n",
    "And we saw that we can reference our resource with the `resource_type.resource_name.property` format.  \n",
    "\n",
    "Another way to explore working with terraform is with the terraform console.  In that case, we first called `terraform console` and then from there practiced accessing different attributes of a resource."
   ]
  },
  {
   "cell_type": "markdown",
   "id": "14baed50-42f4-4737-bb17-a44e2bb5c8a7",
   "metadata": {},
   "source": [
    "<img src=\"./get-ami.png\" width=\"50%\">"
   ]
  },
  {
   "cell_type": "markdown",
   "id": "a6936d59-73d3-4cf5-ab68-906b6374c298",
   "metadata": {},
   "source": [
    "We also used the console to practice working with various functions that are available in hcl."
   ]
  }
 ],
 "metadata": {
  "kernelspec": {
   "display_name": "Python 3 (ipykernel)",
   "language": "python",
   "name": "python3"
  },
  "language_info": {
   "codemirror_mode": {
    "name": "ipython",
    "version": 3
   },
   "file_extension": ".py",
   "mimetype": "text/x-python",
   "name": "python",
   "nbconvert_exporter": "python",
   "pygments_lexer": "ipython3",
   "version": "3.10.13"
  }
 },
 "nbformat": 4,
 "nbformat_minor": 5
}
