{
 "cells": [
  {
   "cell_type": "markdown",
   "id": "7f56ff0a-9977-4285-b182-adb0b207bde6",
   "metadata": {},
   "source": [
    "# Exploring Resources with Terraform"
   ]
  },
  {
   "cell_type": "code",
   "execution_count": null,
   "id": "bef5501d-0fa2-4538-b8fb-78a457579868",
   "metadata": {},
   "outputs": [],
   "source": []
  },
  {
   "cell_type": "markdown",
   "id": "be372293-2632-4c3b-a4d7-bd31c3cf3a38",
   "metadata": {},
   "source": [
    "### Referencing our resource"
   ]
  },
  {
   "cell_type": "markdown",
   "id": "de825ff5-1893-4c3e-9d55-063938963bce",
   "metadata": {},
   "source": [
    "Now when we created our ec2 resource above, we now also have a way to reference that resource.  For example, we created our resource with the following:"
   ]
  },
  {
   "cell_type": "markdown",
   "id": "fd464c17-88d2-4908-8892-d1002d5f263d",
   "metadata": {},
   "source": [
    "```bash\n",
    "resource \"aws_instance\" \"backend_server\" {\n",
    "    ...\n",
    "}\n",
    "```"
   ]
  },
  {
   "cell_type": "markdown",
   "id": "0a5963f2-4525-48f1-bb24-09b7f34382db",
   "metadata": {},
   "source": [
    "Where `aws_instance` is the kind of resource we are creating, and `backend_server` is the resource name in terraform.  Now let's see how we can reference that resource in terraform.\n",
    "\n",
    "\n",
    "Add the following to the bottom of the terraform file:\n",
    "\n",
    "```bash\n",
    "output \"ec2_global_dns\" {\n",
    "  value = aws_instance.backend_server.public_dns\n",
    "}\n",
    "```"
   ]
  },
  {
   "cell_type": "markdown",
   "id": "67be9023-98ba-4dca-acb0-27335967db7d",
   "metadata": {},
   "source": [
    "Here, we are specifying an `output` to display in our console the next time we run terraform apply.  And that output is the domain name of the ec2 machine we just created.  Notice that, to do that, we are referencing the `aws_instance` resource, which allows us to get to our `backend_server` -- a name that we supplied.  Then we display the `public_dns`.  Run terraform apply again, and you should see the output displayed."
   ]
  },
  {
   "cell_type": "markdown",
   "id": "c33dd7a4-8a73-425b-bf65-6fffaf72f533",
   "metadata": {},
   "source": [
    "<img src=\"./tf-output.png\" width=\"50%\">"
   ]
  },
  {
   "cell_type": "markdown",
   "id": "96bd977b-26d3-4773-a00b-196dfc2b2f50",
   "metadata": {},
   "source": [
    "So we learned two things from the above.  One is about outputs, which allows us to log certain information.  The other, is how we can reference our terraform resources.  We can do so with the resource type followed by the resource name.\n",
    "\n",
    "```\n",
    "aws_instance.backend_server\n",
    "```\n",
    "\n",
    "> You can almost think of it the way we reference a module in python.  We do it `folder_name.module` and here we can imagine that `backend_server` is under the `aws_instance` folder."
   ]
  },
  {
   "cell_type": "code",
   "execution_count": null,
   "id": "2ba4b776-9e54-4834-af40-08d49748e062",
   "metadata": {},
   "outputs": [],
   "source": []
  }
 ],
 "metadata": {
  "kernelspec": {
   "display_name": "Python 3 (ipykernel)",
   "language": "python",
   "name": "python3"
  },
  "language_info": {
   "codemirror_mode": {
    "name": "ipython",
    "version": 3
   },
   "file_extension": ".py",
   "mimetype": "text/x-python",
   "name": "python",
   "nbconvert_exporter": "python",
   "pygments_lexer": "ipython3",
   "version": "3.10.13"
  }
 },
 "nbformat": 4,
 "nbformat_minor": 5
}
